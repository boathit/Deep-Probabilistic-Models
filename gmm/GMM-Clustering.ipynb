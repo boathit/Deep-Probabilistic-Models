{
 "cells": [
  {
   "cell_type": "markdown",
   "metadata": {},
   "source": [
    "# Gaussian Mixture Model Clustering"
   ]
  },
  {
   "cell_type": "code",
   "execution_count": 1,
   "metadata": {
    "collapsed": true
   },
   "outputs": [],
   "source": [
    "import torch\n",
    "import torch.nn as nn\n",
    "import torch.nn.functional as F\n",
    "import numpy as np\n",
    "import torch.distributions as dist\n",
    "from torch.distributions import Uniform, Normal\n",
    "import matplotlib.pyplot as plt\n",
    "%matplotlib inline"
   ]
  },
  {
   "cell_type": "code",
   "execution_count": 2,
   "metadata": {
    "collapsed": true
   },
   "outputs": [],
   "source": [
    "class GMMClustering(nn.Module):\n",
    "    def __init__(self, D, K, hidden_size, a=0, b=1, dropout=0.1):\n",
    "        \"\"\"\n",
    "        a, b are the prior knowledge of μ range such that μ ∈ [a, b].\n",
    "        \"\"\"\n",
    "        super(GMMClustering, self).__init__()\n",
    "        self.D = D\n",
    "        self.K = K\n",
    "        ## todo: maybe use the prior knowledge to initialize M\n",
    "        ## such that μs are uniformly distributed in the data space\n",
    "        #self.M = nn.Parameter(torch.randn(K, D)) # μs\n",
    "        self.M = nn.Parameter(Uniform(a, b).sample((K, D))) #μs\n",
    "        self.logS = nn.Parameter(torch.randn(K, D)) # logσs\n",
    "        ## π is the parameter of the Categorical distribution\n",
    "        self.x2logπ = nn.Sequential(MLP(D, hidden_size, K, dropout),\n",
    "                                    nn.LogSoftmax(dim=1))\n",
    "        self.d_uniform = Uniform(0, 1)\n",
    "\n",
    "    def forward(self, x, τ=1.0):\n",
    "        \"\"\"\n",
    "        Input:\n",
    "          x (batch, D)\n",
    "        Output:\n",
    "          z (batch, K)\n",
    "          l (scalar): negative log-likehood\n",
    "        \"\"\"\n",
    "        z = self.encoder(x, τ)\n",
    "        μ, σ = self.decoder(z)\n",
    "        l = NLLGauss(μ, σ, x)\n",
    "        return z, l\n",
    "\n",
    "    def encoder(self, x, τ):\n",
    "        \"\"\"\n",
    "        Input:\n",
    "          x (batch, D)\n",
    "        Output:\n",
    "          z (batch, K): Gumbel-softmax samples.\n",
    "        \"\"\"\n",
    "        logπ = self.x2logπ(x)\n",
    "        u = self.d_uniform.sample(logπ.size())\n",
    "        g = -torch.log(-torch.log(u))\n",
    "        z = F.softmax((logπ + g)/τ, dim=1)\n",
    "        return z\n",
    "\n",
    "    def decoder(self, z):\n",
    "        \"\"\"\n",
    "        Input:\n",
    "          z (batch, K)\n",
    "        Output:\n",
    "          μ (batch, D)\n",
    "          σ (batch, D)\n",
    "        \"\"\"\n",
    "        μ = torch.mm(z, self.M)\n",
    "        σ = torch.exp(torch.mm(z, self.logS))\n",
    "        return μ, σ\n",
    "\n",
    "def NLLGauss(μ, σ, x):\n",
    "    \"\"\"\n",
    "    μ (batch, D)\n",
    "    σ (batch, D)\n",
    "    x (batch, D)\n",
    "    \"\"\"\n",
    "    return -torch.mean(Normal(μ, σ).log_prob(x))\n",
    "\n",
    "class MLP(nn.Module):\n",
    "    def __init__(self, input_size, hidden_size, output_size,\n",
    "                 dropout, use_selu=True):\n",
    "        super(MLP, self).__init__()\n",
    "        self.fc1 = nn.Linear(input_size, hidden_size)\n",
    "        self.fc2 = nn.Linear(hidden_size, output_size)\n",
    "        self.nonlinear_f = F.selu if use_selu else F.leaky_relu\n",
    "        self.dropout = nn.Dropout(dropout)\n",
    "    def forward(self, x):\n",
    "        h1 = self.dropout(self.nonlinear_f(self.fc1(x)))\n",
    "        return self.fc2(h1)"
   ]
  },
  {
   "cell_type": "code",
   "execution_count": 3,
   "metadata": {
    "collapsed": true
   },
   "outputs": [],
   "source": [
    "μ1, Σ1 = torch.tensor([0.0, 0.0]), torch.diag(torch.tensor([1.0, 2.0]))\n",
    "d1 = dist.MultivariateNormal(μ1, Σ1)\n",
    "μ2, Σ2 = torch.tensor([5.0, 5.0]), torch.diag(torch.tensor([1.0, 1.0]))\n",
    "d2 = dist.MultivariateNormal(μ2, Σ2)\n",
    "\n",
    "X1 = d1.sample((500,))\n",
    "X2 = d2.sample((500,))\n",
    "x = torch.cat([X1, X2])"
   ]
  },
  {
   "cell_type": "code",
   "execution_count": 4,
   "metadata": {},
   "outputs": [
    {
     "data": {
      "text/plain": [
       "(-3.43205326795578, 9.158250749111176, -4.71671040058136, 9.039412331581115)"
      ]
     },
     "execution_count": 4,
     "metadata": {},
     "output_type": "execute_result"
    },
    {
     "data": {
      "image/png": "[encoded data removed]",
      "text/plain": [
       "<matplotlib.figure.Figure at 0x117e3add8>"
      ]
     },
     "metadata": {},
     "output_type": "display_data"
    }
   ],
   "source": [
    "Y1 = X1.numpy()\n",
    "Y2 = X2.numpy()\n",
    "plt.plot(Y1[:, 0], Y1[:, 1], \"*\")\n",
    "plt.plot(Y2[:, 0], Y2[:, 1], \"o\")\n",
    "plt.axis('equal')"
   ]
  },
  {
   "cell_type": "code",
   "execution_count": 5,
   "metadata": {},
   "outputs": [],
   "source": [
    "D, K = 2, 2\n",
    "gmmc = GMMClustering(D, K, 64, a=0, b=1)\n",
    "optimizer = torch.optim.Adam(gmmc.parameters())"
   ]
  },
  {
   "cell_type": "code",
   "execution_count": 6,
   "metadata": {},
   "outputs": [
    {
     "name": "stdout",
     "output_type": "stream",
     "text": [
      "loss: 2.8473756313323975\n",
      "loss: 2.1456844806671143\n",
      "loss: 1.853241205215454\n",
      "loss: 1.5784493684768677\n",
      "loss: 1.486061453819275\n",
      "loss: 1.491107702255249\n",
      "loss: 1.4861587285995483\n",
      "loss: 1.5030301809310913\n",
      "loss: 1.4873088598251343\n",
      "loss: 1.4947954416275024\n",
      "loss: 1.497831106185913\n",
      "loss: 1.4902169704437256\n"
     ]
    }
   ],
   "source": [
    "for i in range(12000):\n",
    "    z, l = gmmc(x)\n",
    "    if i % 1000 == 0:\n",
    "        print(\"loss: {}\".format(l.item()))\n",
    "    optimizer.zero_grad()\n",
    "    l.backward()\n",
    "    optimizer.step()"
   ]
  },
  {
   "cell_type": "code",
   "execution_count": 7,
   "metadata": {
    "collapsed": true
   },
   "outputs": [],
   "source": [
    "z, l = gmmc(x)\n",
    "val, idx = torch.max(z, dim=1)"
   ]
  },
  {
   "cell_type": "code",
   "execution_count": 8,
   "metadata": {},
   "outputs": [
    {
     "data": {
      "text/plain": [
       "Parameter containing:\n",
       "tensor([[-0.1006, -0.2091],\n",
       "        [ 5.0500,  5.0001]], requires_grad=True)"
      ]
     },
     "execution_count": 8,
     "metadata": {},
     "output_type": "execute_result"
    }
   ],
   "source": [
    "gmmc.M"
   ]
  },
  {
   "cell_type": "code",
   "execution_count": 9,
   "metadata": {},
   "outputs": [
    {
     "name": "stdout",
     "output_type": "stream",
     "text": [
      "tensor(1)\n",
      "tensor(495)\n"
     ]
    }
   ],
   "source": [
    "print(idx[:500].sum())\n",
    "print(idx[500:].sum())"
   ]
  },
  {
   "cell_type": "code",
   "execution_count": null,
   "metadata": {},
   "outputs": [],
   "source": []
  },
  {
   "cell_type": "code",
   "execution_count": null,
   "metadata": {
    "collapsed": true
   },
   "outputs": [],
   "source": []
  }
 ],
 "metadata": {
  "kernelspec": {
   "display_name": "Python 3",
   "language": "python",
   "name": "python3"
  },
  "language_info": {
   "codemirror_mode": {
    "name": "ipython",
    "version": 3
   },
   "file_extension": ".py",
   "mimetype": "text/x-python",
   "name": "python",
   "nbconvert_exporter": "python",
   "pygments_lexer": "ipython3",
   "version": "3.6.1"
  }
 },
 "nbformat": 4,
 "nbformat_minor": 2
}
