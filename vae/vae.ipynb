{
 "cells": [
  {
   "cell_type": "code",
   "execution_count": 1,
   "metadata": {},
   "outputs": [],
   "source": [
    "import torch\n",
    "import torch.nn as nn\n",
    "import torch.nn.functional as F\n",
    "from torchvision import datasets, transforms\n",
    "import matplotlib.pyplot as plt\n",
    "%matplotlib inline\n",
    "\n",
    "device = torch.device(\"cuda\" if torch.cuda.is_available() else \"cpu\")"
   ]
  },
  {
   "cell_type": "code",
   "execution_count": 2,
   "metadata": {
    "collapsed": true
   },
   "outputs": [],
   "source": [
    "def getDataLoaders(trainData, testData, batch_size):\n",
    "    trainLoader = torch.utils.data.DataLoader(dataset=trainData,\n",
    "                                              batch_size=batch_size,\n",
    "                                              shuffle=True)\n",
    "    testLoader = torch.utils.data.DataLoader(dataset=testData,\n",
    "                                             batch_size=batch_size,\n",
    "                                             shuffle=False)\n",
    "    return trainLoader, testLoader\n",
    "\n",
    "def getmnistDataLoaders(path, batch_size):\n",
    "    trainData = datasets.MNIST(root=path,\n",
    "                               train=True,\n",
    "                               transform=transforms.ToTensor(),\n",
    "                               download=True)\n",
    "    testData = datasets.MNIST(root=path,\n",
    "                              train=False,\n",
    "                              transform=transforms.ToTensor())\n",
    "\n",
    "    return getDataLoaders(trainData, testData, batch_size)\n",
    "\n",
    "\n",
    "batch_size = 256\n",
    "\n",
    "trainLoader, testLoader = getmnistDataLoaders(\"../data\", batch_size)"
   ]
  },
  {
   "cell_type": "code",
   "execution_count": 23,
   "metadata": {
    "collapsed": true
   },
   "outputs": [],
   "source": [
    "class Encoder(nn.Module):\n",
    "    def __init__(self):\n",
    "        super(Encoder, self).__init__()\n",
    "        self.fc = nn.Linear(28*28, 400)\n",
    "        self.fμ = nn.Linear(400, 20)\n",
    "        self.flogσ = nn.Linear(400, 20)\n",
    "\n",
    "    def forward(self, x):\n",
    "        h = F.relu(self.fc(x))\n",
    "        return self.fμ(h), self.flogσ(h)\n",
    "\n",
    "class Decoder(nn.Module):\n",
    "    def __init__(self):\n",
    "        super(Decoder, self).__init__()\n",
    "        self.f = nn.Sequential(\n",
    "            nn.Linear(20, 400),\n",
    "            nn.ReLU(),\n",
    "            nn.Linear(400, 784),\n",
    "            nn.LogSigmoid()\n",
    "        )\n",
    "    def forward(self, z):\n",
    "        return self.f(z)\n",
    "\n",
    "def reparameterize(μ, logσ):\n",
    "    σ = torch.exp(logσ)\n",
    "    ϵ = torch.randn_like(σ)\n",
    "    return μ + σ * ϵ\n",
    "\n",
    "class VAE(nn.Module):\n",
    "    def __init__(self):\n",
    "        super(VAE, self).__init__()\n",
    "        self.encoder = Encoder()\n",
    "        self.decoder = Decoder()\n",
    "\n",
    "    def forward(self, x):\n",
    "        μ, logσ = self.encoder(x)\n",
    "        z = reparameterize(μ, logσ)\n",
    "        logx̂ = self.decoder(z)\n",
    "        ## loss\n",
    "        term1 = F.binary_cross_entropy_with_logits(logx̂, x, reduction='sum')\n",
    "        term2 = -0.5 * torch.sum(1 + 2*logσ - torch.pow(μ, 2) - torch.exp(2*logσ))\n",
    "        return (term1 + term2) / x.size(0)"
   ]
  },
  {
   "cell_type": "code",
   "execution_count": 24,
   "metadata": {
    "collapsed": true
   },
   "outputs": [],
   "source": [
    "m = VAE().to(device)\n",
    "optimizer = torch.optim.Adam(m.parameters())"
   ]
  },
  {
   "cell_type": "code",
   "execution_count": 30,
   "metadata": {
    "collapsed": true
   },
   "outputs": [],
   "source": [
    "iterations = len(trainLoader.dataset) // batch_size"
   ]
  },
  {
   "cell_type": "code",
   "execution_count": 31,
   "metadata": {},
   "outputs": [
    {
     "name": "stdout",
     "output_type": "stream",
     "text": [
      "Epoch: 0  Loss: 162.2286123292059\n",
      "Epoch: 1  Loss: 151.4620614337106\n",
      "Epoch: 2  Loss: 146.29531658205212\n",
      "Epoch: 3  Loss: 143.47079383002387\n",
      "Epoch: 4  Loss: 141.84766994378506\n",
      "Epoch: 5  Loss: 140.71226710132044\n",
      "Epoch: 6  Loss: 139.88690778944226\n"
     ]
    }
   ],
   "source": [
    "epochs = 7\n",
    "for epoch in range(epochs):\n",
    "    epochLoss = 0.0\n",
    "    for x, _ in trainLoader:\n",
    "        x = x.reshape(-1, 784).to(device)\n",
    "        loss = m(x)\n",
    "        epochLoss += loss.item()\n",
    "\n",
    "        optimizer.zero_grad()\n",
    "        loss.backward()\n",
    "        optimizer.step()\n",
    "    print(\"Epoch: {}  Loss: {}\".format(epoch, epochLoss / iterations))"
   ]
  },
  {
   "cell_type": "code",
   "execution_count": null,
   "metadata": {},
   "outputs": [],
   "source": []
  },
  {
   "cell_type": "markdown",
   "metadata": {},
   "source": [
    "## Visualization"
   ]
  },
  {
   "cell_type": "code",
   "execution_count": 36,
   "metadata": {
    "collapsed": true
   },
   "outputs": [],
   "source": [
    "def drawsamples(decoder, n):\n",
    "    with torch.no_grad():\n",
    "        z = torch.randn(n, 20).to(device)\n",
    "        x = torch.exp(decoder(z))\n",
    "        return x.reshape(n, 28, 28)"
   ]
  },
  {
   "cell_type": "code",
   "execution_count": 37,
   "metadata": {
    "collapsed": true
   },
   "outputs": [],
   "source": [
    "x = drawsamples(m.decoder, 5)\n",
    "img = torch.cat(torch.unbind(x, dim=0)).cpu().numpy()"
   ]
  },
  {
   "cell_type": "code",
   "execution_count": 38,
   "metadata": {},
   "outputs": [
    {
     "data": {
      "text/plain": [
       "<matplotlib.image.AxesImage at 0x1061f8f28>"
      ]
     },
     "execution_count": 38,
     "metadata": {},
     "output_type": "execute_result"
    },
    {
     "data": {
      "image/png": "[encoded data removed]",
      "text/plain": [
       "<matplotlib.figure.Figure at 0x129bb9518>"
      ]
     },
     "metadata": {},
     "output_type": "display_data"
    }
   ],
   "source": [
    "plt.figure(figsize=(4, 18))\n",
    "plt.imshow(img)\n",
    "#plt.savefig(\"../images/vae-1.png\", bbox_inches='tight')"
   ]
  },
  {
   "cell_type": "code",
   "execution_count": null,
   "metadata": {
    "collapsed": true
   },
   "outputs": [],
   "source": []
  }
 ],
 "metadata": {
  "kernelspec": {
   "display_name": "Python 3",
   "language": "python",
   "name": "python3"
  },
  "language_info": {
   "codemirror_mode": {
    "name": "ipython",
    "version": 3
   },
   "file_extension": ".py",
   "mimetype": "text/x-python",
   "name": "python",
   "nbconvert_exporter": "python",
   "pygments_lexer": "ipython3",
   "version": "3.6.1"
  }
 },
 "nbformat": 4,
 "nbformat_minor": 2
}
